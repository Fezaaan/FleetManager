{
 "cells": [
  {
   "cell_type": "code",
   "execution_count": 1,
   "metadata": {},
   "outputs": [],
   "source": [
    "import cv2\n",
    "from picamera2 import Picamera2\n",
    "from qreader import QReader\n",
    "import parking_slots\n",
    "import json\n",
    "import os"
   ]
  },
  {
   "cell_type": "code",
   "execution_count": null,
   "metadata": {},
   "outputs": [],
   "source": [
    "picam2 = Picamera2()\n",
    "picam2.preview_configuration.main.size = (3000,3000)\n",
    "picam2.preview_configuration.main.format = \"RGB888\"\n",
    "qreader_reader = QReader()\n",
    "\n",
    "current_fleet = []"
   ]
  },
  {
   "cell_type": "code",
   "execution_count": 3,
   "metadata": {},
   "outputs": [],
   "source": [
    "def load_parking_slots(json_file):\n",
    "    with open(json_file, \"r\") as f:\n",
    "        slots = json.load(f)\n",
    "    return [(slot[\"coordinates\"], slot[\"slot_id\"]) for slot in slots]"
   ]
  },
  {
   "cell_type": "code",
   "execution_count": 4,
   "metadata": {},
   "outputs": [],
   "source": [
    "def capture_frame():\n",
    "    picam2.start()\n",
    "\n",
    "    frame = picam2.capture_array()\n",
    "\n",
    "    output_path = \"Testaufnahme_RGB.png\"\n",
    "\n",
    "    cv2.imwrite(output_path, frame)\n",
    "\n",
    "    picam2.stop()\n",
    "\n",
    "    return frame"
   ]
  },
  {
   "cell_type": "code",
   "execution_count": 5,
   "metadata": {},
   "outputs": [],
   "source": [
    "def detectQRCodes():\n",
    "    img_path = \"Testaufnahme_RGB.png\"\n",
    "    img = cv2.imread(img_path)\n",
    "    img = capture_frame()\n",
    "    slots,image = load_parking_slots(\"parking_slots.json\"),cv2.imread(\"/home/raspi5/Desktop/Muhammad/qreader_test_image_detections.png\")  #parking_slots.define_parking_slots(img)\n",
    "\n",
    "    decoded_texts, detections = qreader_reader.detect_and_decode(image=image,return_detections=True)\n",
    "    \n",
    "    for decoded_text, detection in zip(decoded_texts,detections):\n",
    "        x1,y1,x2,y2 = map(int, detection['bbox_xyxy'])\n",
    "        qr_code_center = ((x1 + x2) // 2, (y1 + y2) // 2)\n",
    "        for s in slots:\n",
    "            coordinates,slot_id=s\n",
    "            if parking_slots.is_point_in_parking_slot(qr_code_center,coordinates):\n",
    "                print(f\"Vehicle {decoded_text} is on park slot id {slot_id}\")\n",
    "\n",
    "        cv2.rectangle(image, (x1, y1), (x2, y2), color=(0, 0, 255), thickness=4)\n",
    "        cv2.putText(image, f'{decoded_text}', (x1, y1 - 10), fontFace=cv2.FONT_HERSHEY_SIMPLEX,\n",
    "                fontScale=2, color=(0, 0, 2550), thickness=4)\n",
    "        \n",
    "    cv2.imwrite(filename='qreader_test_image_detections.png', img=img)\n",
    "\n",
    "    print(f\"img: {img_path} -> QReader: {decoded_texts}\") "
   ]
  },
  {
   "cell_type": "code",
   "execution_count": null,
   "metadata": {},
   "outputs": [],
   "source": [
    "detectQRCodes()"
   ]
  }
 ],
 "metadata": {
  "kernelspec": {
   "display_name": "myenv",
   "language": "python",
   "name": "python3"
  },
  "language_info": {
   "codemirror_mode": {
    "name": "ipython",
    "version": 3
   },
   "file_extension": ".py",
   "mimetype": "text/x-python",
   "name": "python",
   "nbconvert_exporter": "python",
   "pygments_lexer": "ipython3",
   "version": "3.11.2"
  }
 },
 "nbformat": 4,
 "nbformat_minor": 2
}
