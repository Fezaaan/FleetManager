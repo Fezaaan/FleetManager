{
 "cells": [
  {
   "cell_type": "code",
   "execution_count": 1,
   "metadata": {},
   "outputs": [],
   "source": [
    "import cv2\n",
    "import numpy as np\n",
    "import json"
   ]
  },
  {
   "cell_type": "code",
   "execution_count": 2,
   "metadata": {},
   "outputs": [],
   "source": [
    "image = None\n",
    "current_points = []\n",
    "parking_slots = []\n",
    "draw_mode_active = False"
   ]
  },
  {
   "cell_type": "code",
   "execution_count": 3,
   "metadata": {},
   "outputs": [],
   "source": [
    "def save_parking_slots_to_json(parking_slots, output_file):\n",
    "    parking_data = [\n",
    "        {\n",
    "            \"slot_id\": slot_id,\n",
    "            \"coordinates\": coordinates\n",
    "        }\n",
    "        for coordinates, slot_id in parking_slots\n",
    "    ]\n",
    "\n",
    "    with open(output_file, \"w\") as f:\n",
    "        json.dump(parking_data, f, indent=4)"
   ]
  },
  {
   "cell_type": "code",
   "execution_count": 4,
   "metadata": {},
   "outputs": [],
   "source": [
    "def is_point_in_parking_slot(point, polygon):\n",
    "    result = cv2.pointPolygonTest(np.array(polygon, dtype=np.int32), point, False)\n",
    "    return result >= 0  "
   ]
  },
  {
   "cell_type": "code",
   "execution_count": 5,
   "metadata": {},
   "outputs": [],
   "source": [
    "def mouse_callback(event, x, y, flags, param):\n",
    "    global draw_mode_active, current_points, parking_slots, image\n",
    "\n",
    "    if not draw_mode_active:\n",
    "        return\n",
    "\n",
    "    if event == cv2.EVENT_LBUTTONDOWN:\n",
    "        if len(current_points) < 4:\n",
    "            current_points.append((x, y))\n",
    "            draw_interface()\n",
    "            if len(current_points) > 1:\n",
    "                cv2.line(image, current_points[-2], current_points[-1], (0, 255, 0), 6)\n",
    "                draw_interface()\n",
    "\n",
    "            if len(current_points) == 4:\n",
    "                cv2.line(image, current_points[-1], current_points[0], (0, 255, 0), 6)\n",
    "                parking_slot_id = len(parking_slots) + 1\n",
    "                parking_slots.append((current_points.copy(), parking_slot_id))\n",
    "                current_points.clear()\n",
    "                draw_mode_active=False\n",
    "                draw_interface()"
   ]
  },
  {
   "cell_type": "code",
   "execution_count": 6,
   "metadata": {},
   "outputs": [],
   "source": [
    "def draw_interface():\n",
    "    global draw_mode_active, image\n",
    "    img_copy = image.copy()\n",
    "\n",
    "    for slot, slot_id in parking_slots:\n",
    "        cv2.polylines(img_copy, [np.array(slot)], True, (0, 255, 0), 4)\n",
    "        cv2.putText(img_copy, f\"ID {slot_id}\", tuple(slot[0]), cv2.FONT_HERSHEY_SIMPLEX, 2, (0, 255, 0), 4)\n",
    "\n",
    "    mode_text = \"DRAW MODE: ON\" if draw_mode_active else \"DRAW MODE: OFF\"\n",
    "    mode_color = (0, 255, 0) if draw_mode_active else (0, 0, 255)\n",
    "    cv2.putText(img_copy, mode_text, (20, 50), cv2.FONT_HERSHEY_SIMPLEX, 2, mode_color, 6)\n",
    "\n",
    "    h, w, _ = img_copy.shape\n",
    "    legend_height = 250\n",
    "\n",
    "    cv2.rectangle(img_copy, (0, h - legend_height), (w, h), (0, 0, 0), -1)\n",
    "\n",
    "    cv2.putText(img_copy, \"MENU:\", (20, h - 200), cv2.FONT_HERSHEY_SIMPLEX, 2, (255, 255, 255), 3)\n",
    "\n",
    "    if draw_mode_active:\n",
    "        cv2.putText(img_copy, \"Left-click: Define Park Slot (4 Coordinates)\", (20, h - 140), \n",
    "                    cv2.FONT_HERSHEY_SIMPLEX, 2, (255, 255, 255), 3)\n",
    "        cv2.putText(img_copy, \"ESC: Abort Draw Mode\", (20, h - 80), \n",
    "                    cv2.FONT_HERSHEY_SIMPLEX, 2, (255, 255, 255), 3)\n",
    "    else:\n",
    "        cv2.putText(img_copy, \"D: Enter Draw Mode\", (20, h - 140), \n",
    "                    cv2.FONT_HERSHEY_SIMPLEX, 2, (255, 255, 255), 3)\n",
    "        cv2.putText(img_copy, \"S: Save | Z: Undo Last Park Slot | Q: Quit\", (20, h - 80), \n",
    "                    cv2.FONT_HERSHEY_SIMPLEX, 2, (255, 255, 255), 3)\n",
    "        \n",
    "    cv2.imshow(\"Define Parking Slots\", img_copy)"
   ]
  },
  {
   "cell_type": "code",
   "execution_count": null,
   "metadata": {},
   "outputs": [],
   "source": [
    "def define_parking_slots(image_path, output_file=\"parking_slots.json\"):\n",
    "    global draw_mode_active, image, parking_slots\n",
    "\n",
    "    original_image = cv2.imread(image_path)\n",
    "    image = original_image.copy()\n",
    "    cv2.imshow(\"Define Parking Slots\", image)\n",
    "    draw_interface()\n",
    "    cv2.setMouseCallback(\"Define Parking Slots\", mouse_callback)\n",
    "\n",
    "    while True:\n",
    "        key = cv2.waitKey(1) & 0xFF\n",
    "        draw_interface()\n",
    "\n",
    "        if key == ord('q'):  \n",
    "            break\n",
    "\n",
    "        elif key == ord('z') and parking_slots:\n",
    "            parking_slots.pop()\n",
    "            image = original_image.copy()\n",
    "            draw_interface()\n",
    "\n",
    "        elif key == ord('d'):\n",
    "            draw_mode_active = True\n",
    "            draw_interface()\n",
    "\n",
    "        elif key == 27: # ESC\n",
    "            if draw_mode_active:\n",
    "                current_points.clear()\n",
    "                image = original_image.copy()\n",
    "                draw_mode_active = False\n",
    "                draw_interface()\n",
    "\n",
    "        elif key == ord('s'): # S\n",
    "            save_parking_slots_to_json(parking_slots, output_file)\n",
    "            print(f\"Parking slots saved to {output_file}.\")\n",
    "            break\n",
    "\n",
    "    cv2.destroyAllWindows()\n",
    "    return parking_slots, image"
   ]
  },
  {
   "cell_type": "code",
   "execution_count": null,
   "metadata": {},
   "outputs": [],
   "source": [
    "if __name__ == \"__main__\":\n",
    "    define_parking_slots(\"Testaufnahme_RGB.png\")"
   ]
  }
 ],
 "metadata": {
  "kernelspec": {
   "display_name": "myenv",
   "language": "python",
   "name": "python3"
  },
  "language_info": {
   "codemirror_mode": {
    "name": "ipython",
    "version": 3
   },
   "file_extension": ".py",
   "mimetype": "text/x-python",
   "name": "python",
   "nbconvert_exporter": "python",
   "pygments_lexer": "ipython3",
   "version": "3.11.2"
  }
 },
 "nbformat": 4,
 "nbformat_minor": 2
}
